{
 "cells": [
  {
   "cell_type": "markdown",
   "id": "ede709fd",
   "metadata": {},
   "source": [
    "### Imports"
   ]
  },
  {
   "cell_type": "code",
   "execution_count": 113,
   "id": "13592314",
   "metadata": {},
   "outputs": [],
   "source": [
    "import openai, pinecone"
   ]
  },
  {
   "cell_type": "code",
   "execution_count": 114,
   "id": "bcaa6d2a",
   "metadata": {},
   "outputs": [],
   "source": [
    "from langchain.llms import OpenAI"
   ]
  },
  {
   "cell_type": "code",
   "execution_count": 115,
   "id": "3c437caa",
   "metadata": {},
   "outputs": [],
   "source": [
    "from langchain.document_loaders import UnstructuredPDFLoader\n",
    "from langchain.text_splitter import RecursiveCharacterTextSplitter\n",
    "from langchain.embeddings import OpenAIEmbeddings\n",
    "from langchain.vectorstores import Pinecone\n",
    "from langchain.chains.question_answering import load_qa_chain\n",
    "from langchain.memory import ConversationBufferMemory"
   ]
  },
  {
   "cell_type": "code",
   "execution_count": 118,
   "id": "b7de4845",
   "metadata": {},
   "outputs": [],
   "source": [
    "from dotenv import load_dotenv\n",
    "import os"
   ]
  },
  {
   "cell_type": "code",
   "execution_count": 119,
   "id": "d493113c",
   "metadata": {},
   "outputs": [
    {
     "data": {
      "text/plain": [
       "True"
      ]
     },
     "execution_count": 119,
     "metadata": {},
     "output_type": "execute_result"
    }
   ],
   "source": [
    "load_dotenv()"
   ]
  },
  {
   "cell_type": "markdown",
   "id": "448edb7c",
   "metadata": {},
   "source": [
    "### Document Splitting"
   ]
  },
  {
   "cell_type": "code",
   "execution_count": 120,
   "id": "93d0be30",
   "metadata": {},
   "outputs": [],
   "source": [
    "loader = UnstructuredPDFLoader(\"./data/Robert B. Cialdini - Influence_ Science and Practice-Allyn & Bacon (2000).pdf\")"
   ]
  },
  {
   "cell_type": "code",
   "execution_count": 91,
   "id": "8f42e9df",
   "metadata": {},
   "outputs": [],
   "source": [
    "text_splitter = RecursiveCharacterTextSplitter(\n",
    "chunk_size = 2000,\n",
    "chunk_overlap = 500,\n",
    "length_function = len\n",
    ")"
   ]
  },
  {
   "cell_type": "code",
   "execution_count": 92,
   "id": "695bc6fc",
   "metadata": {},
   "outputs": [],
   "source": [
    "data = loader.load_and_split(text_splitter)"
   ]
  },
  {
   "cell_type": "markdown",
   "id": "8a76cfa7",
   "metadata": {},
   "source": [
    "### Sending data in pinecone"
   ]
  },
  {
   "cell_type": "code",
   "execution_count": 121,
   "id": "9e4d7613",
   "metadata": {},
   "outputs": [],
   "source": [
    "pinecone.init(\n",
    "api_key = os.environ['PINECONE_API_KEY'],\n",
    "environment= os.environ['PINECONE_ENV'])"
   ]
  },
  {
   "cell_type": "code",
   "execution_count": 122,
   "id": "edd7e988",
   "metadata": {},
   "outputs": [],
   "source": [
    "index_name = 'qa-sales'"
   ]
  },
  {
   "cell_type": "code",
   "execution_count": 123,
   "id": "98ded9b5",
   "metadata": {},
   "outputs": [],
   "source": [
    "embeddings = OpenAIEmbeddings(openai_api_key=os.environ['OPENAI_API_KEY'])"
   ]
  },
  {
   "cell_type": "code",
   "execution_count": 124,
   "id": "b5ab9c4f",
   "metadata": {},
   "outputs": [],
   "source": [
    "if index_name not in pinecone.list_indexes():\n",
    "    print('Index does not exist:', index_name)"
   ]
  },
  {
   "cell_type": "code",
   "execution_count": 138,
   "id": "7368defa",
   "metadata": {},
   "outputs": [],
   "source": [
    "# text_search = Pinecone.from_texts([t.page_content for t in data], embeddings, index_name = index_name)"
   ]
  },
  {
   "cell_type": "code",
   "execution_count": 144,
   "id": "0f4d8a4d",
   "metadata": {},
   "outputs": [],
   "source": [
    "text_search = Pinecone.from_texts([],embeddings, index_name = index_name)"
   ]
  },
  {
   "cell_type": "markdown",
   "id": "de1f00e3",
   "metadata": {},
   "source": [
    "### Import QA Chain from LangChain"
   ]
  },
  {
   "cell_type": "code",
   "execution_count": 145,
   "id": "c961dd15",
   "metadata": {},
   "outputs": [],
   "source": [
    "llm = OpenAI(temperature=0)"
   ]
  },
  {
   "cell_type": "code",
   "execution_count": 146,
   "id": "2d0cdc31",
   "metadata": {},
   "outputs": [],
   "source": [
    "query = \"How should I approach a client?\"\n",
    "docs = text_search.similarity_search(query)"
   ]
  },
  {
   "cell_type": "markdown",
   "id": "6de2b2a8",
   "metadata": {},
   "source": [
    "### Ask Questions on documents"
   ]
  },
  {
   "cell_type": "code",
   "execution_count": 147,
   "id": "70f19cfe",
   "metadata": {},
   "outputs": [
    {
     "data": {
      "text/plain": [
       "' Many sales training programs now urge trainees to \"mirror and match\" the customer\\'s body posture, mood, and verbal style, as similarities along each of these dimensions have been shown to lead to positive results. Additionally, Joe Girard, the world\\'s \"greatest car salesman,\" suggests sending holiday greeting cards with a printed message of \"I like you\" to customers. This can help to create a sense of liking and willing compliance. Finally, telephone solicitors often begin by inquiring about the customer\\'s current health and well-being in order to get them to respond positively and make it easier to corner them into aiding those for whom all is not well.'"
      ]
     },
     "execution_count": 147,
     "metadata": {},
     "output_type": "execute_result"
    }
   ],
   "source": [
    "chain = load_qa_chain(llm, chain_type='stuff')\n",
    "chain.run(input_documents = docs, question=query)"
   ]
  },
  {
   "cell_type": "code",
   "execution_count": 148,
   "id": "1dd7562d",
   "metadata": {},
   "outputs": [],
   "source": [
    "\n",
    "def chat(query):\n",
    "    docs = text_search.similarity_search(query)\n",
    "    return chain.run(input_documents = docs, question=query)"
   ]
  },
  {
   "cell_type": "code",
   "execution_count": 149,
   "id": "a54857aa",
   "metadata": {},
   "outputs": [
    {
     "data": {
      "text/plain": [
       "\" The author's tips for sales include using the scarcity principle to generate more desire for the car than it deserves, using the contrast principle by waiting until the price of a car has been negotiated before suggesting one option after another, and using compliments and claims of affinity to get customers to like them.\""
      ]
     },
     "execution_count": 149,
     "metadata": {},
     "output_type": "execute_result"
    }
   ],
   "source": [
    "chat(\"What are the author's tips for sales\")"
   ]
  },
  {
   "cell_type": "code",
   "execution_count": 150,
   "id": "09400f0f",
   "metadata": {},
   "outputs": [
    {
     "data": {
      "text/plain": [
       "' The contrast principle is a principle in human perception that affects the way we see the difference between two things that are presented one after another. It states that if the second item is fairly different from the first, we will tend to see it as more different than it actually is.'"
      ]
     },
     "execution_count": 150,
     "metadata": {},
     "output_type": "execute_result"
    }
   ],
   "source": [
    "chat('What is the contrast principle?')"
   ]
  },
  {
   "cell_type": "code",
   "execution_count": 151,
   "id": "8c2d7ac4",
   "metadata": {},
   "outputs": [
    {
     "data": {
      "text/plain": [
       "' The contrast principle works in sales by presenting the most expensive item first. This makes the other items seem less expensive in comparison, and encourages customers to spend more money. For example, a clothing store might show a customer a more expensive suit first, and then show them a sweater. The sweater will seem less expensive in comparison to the suit, and the customer is more likely to buy it. Automobile dealers also use the contrast principle by waiting until the price of a car has been negotiated before suggesting one option after another. This makes the added expense of accessories seem trivial in comparison to the already determined much larger price.'"
      ]
     },
     "execution_count": 151,
     "metadata": {},
     "output_type": "execute_result"
    }
   ],
   "source": [
    "chat('How does the contrast principle work in sales?')"
   ]
  },
  {
   "cell_type": "code",
   "execution_count": 152,
   "id": "4467cc44",
   "metadata": {},
   "outputs": [
    {
     "data": {
      "text/plain": [
       "' The scarcity principle is a psychological principle that states that people assign more value to opportunities when they are less available. It is often used in compliance techniques such as the \"limited number\" and \"deadline\" tactics, wherein practitioners try to convince us that access to what they are offering is restricted by amount or time.'"
      ]
     },
     "execution_count": 152,
     "metadata": {},
     "output_type": "execute_result"
    }
   ],
   "source": [
    "chat('What is the scarcity principle?')"
   ]
  },
  {
   "cell_type": "code",
   "execution_count": 153,
   "id": "db6836c2",
   "metadata": {},
   "outputs": [
    {
     "data": {
      "text/plain": [
       "' The scarcity principle works in sales by creating a sense of urgency and making customers feel like they need to act quickly to take advantage of a limited opportunity. This can be done through tactics such as limited numbers, deadlines, and exclusive information. For example, a salesperson might tell a customer that there is only a limited number of a certain product available, or that the offer is only available for a limited time. They might also tell the customer that the information they are providing is exclusive and not available to everyone. These tactics create a sense of urgency and make customers feel like they need to act quickly to take advantage of the opportunity.'"
      ]
     },
     "execution_count": 153,
     "metadata": {},
     "output_type": "execute_result"
    }
   ],
   "source": [
    "chat('How does the scarcity principle work in Sales?')"
   ]
  },
  {
   "cell_type": "code",
   "execution_count": 154,
   "id": "5663e15c",
   "metadata": {},
   "outputs": [
    {
     "data": {
      "text/plain": [
       "' An example of the scarcity principle in sales is the \"limited number\" tactic, where a customer is informed that a certain product is in short supply and won\\'t last long.'"
      ]
     },
     "execution_count": 154,
     "metadata": {},
     "output_type": "execute_result"
    }
   ],
   "source": [
    "chat('Give me an example of the scarcity principle in sales')"
   ]
  },
  {
   "cell_type": "code",
   "execution_count": 155,
   "id": "6f543617",
   "metadata": {},
   "outputs": [
    {
     "data": {
      "text/plain": [
       "' The compliments principle is the idea that people tend to believe praise and to like those who provide it, even when it is probably untrue.'"
      ]
     },
     "execution_count": 155,
     "metadata": {},
     "output_type": "execute_result"
    }
   ],
   "source": [
    "chat('What is the compliments principle?')"
   ]
  },
  {
   "cell_type": "code",
   "execution_count": null,
   "id": "47e7497b",
   "metadata": {},
   "outputs": [],
   "source": [
    "chat('How does the compliments principle work in Sales?')"
   ]
  },
  {
   "cell_type": "code",
   "execution_count": null,
   "id": "33fdb359",
   "metadata": {},
   "outputs": [],
   "source": []
  }
 ],
 "metadata": {
  "kernelspec": {
   "display_name": "Python 3 (ipykernel)",
   "language": "python",
   "name": "python3"
  },
  "language_info": {
   "codemirror_mode": {
    "name": "ipython",
    "version": 3
   },
   "file_extension": ".py",
   "mimetype": "text/x-python",
   "name": "python",
   "nbconvert_exporter": "python",
   "pygments_lexer": "ipython3",
   "version": "3.9.13"
  }
 },
 "nbformat": 4,
 "nbformat_minor": 5
}
